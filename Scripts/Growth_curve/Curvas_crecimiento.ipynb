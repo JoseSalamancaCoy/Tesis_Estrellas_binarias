{
 "cells": [
  {
   "cell_type": "code",
   "execution_count": 36,
   "metadata": {},
   "outputs": [],
   "source": [
    "import pandas as pd\n",
    "import numpy as np\n",
    "import scipy\n",
    "import matplotlib.pyplot as plt\n",
    "from heapq import nsmallest\n",
    "from scipy.signal import butter, lfilter, freqz\n",
    "from scipy.fftpack import fft, ifft\n",
    "from scipy import integrate\n",
    "from scipy.interpolate import InterpolatedUnivariateSpline\n",
    "from scipy.interpolate import CubicSpline , interp1d"
   ]
  },
  {
   "cell_type": "code",
   "execution_count": 37,
   "metadata": {},
   "outputs": [],
   "source": [
    "#Lecture data: lines klaus, cromospheric spectrum, VALD\n",
    "lines_ =  pd.read_excel(\"lines.xlsx\",sheet_name=\"cromospheric_lines\", columns = ['waveobs', 'element','wave_base', 'wave_top'] )\n",
    "lines_['waveobs'] = lines_['waveobs']/10\n",
    "c_s = pd.read_csv('Subtracted_spectrum_F1-9.txt', delimiter = '\\t', header = 0)\n",
    "Atomic_lines = pd.read_csv('atomic_lines.tsv', delimiter = '\\t', usecols = ['element', 'wave_A','loggf'], header = 0, low_memory=False, keep_default_na= False)"
   ]
  },
  {
   "cell_type": "markdown",
   "metadata": {},
   "source": [
    "## Found absortion lines"
   ]
  },
  {
   "cell_type": "code",
   "execution_count": 15,
   "metadata": {},
   "outputs": [],
   "source": [
    "#found point that correspond to absortion lines in cromospheric spectrum\n",
    "new_list = []\n",
    "for i in range(len(lines_['waveobs'])):\n",
    "    new_list.append(nsmallest(1,c_s['waveobs'], key = lambda x: abs(x-lines_['waveobs'][i]))[0])"
   ]
  },
  {
   "cell_type": "code",
   "execution_count": 40,
   "metadata": {},
   "outputs": [],
   "source": [
    "#Create new list with contain the absortion lines in cromospheric spectrum with its respective element\n",
    "lines_s = pd.DataFrame(columns = ['waveobs','element', 'flux', 'error_f'])\n",
    "L = []\n",
    "I = []\n",
    "\n",
    "for i in range(len(new_list)-1):\n",
    "    L.append(c_s[c_s[\"waveobs\"] == new_list[i]][\"waveobs\"].tolist()[0])\n",
    "    I.append(c_s[c_s[\"waveobs\"] == new_list[i]]['flux'].tolist()[0])\n",
    "lines_s['waveobs'] = L\n",
    "lines_s['flux'] = I\n",
    "lines_s['element'] = lines_['element']\n",
    "lines_s['error_f'] = c_s['err']"
   ]
  },
  {
   "cell_type": "code",
   "execution_count": 18,
   "metadata": {},
   "outputs": [],
   "source": [
    "#Separate by elements\n",
    "Fe1 = lines_s[lines_s['element']=='Fe1']\n",
    "Ti2 = lines_s[lines_s['element']=='Ti2']\n",
    "Fe2 = lines_s[lines_s['element']=='Fe2']\n",
    "\n",
    "Fe1.index = list(range(len(Fe1)))\n",
    "Ti2.index = list(range(len(Ti2)))\n",
    "Fe2.index = list(range(len(Fe2)))"
   ]
  },
  {
   "cell_type": "markdown",
   "metadata": {},
   "source": [
    "## Associate atomic data"
   ]
  },
  {
   "cell_type": "code",
   "execution_count": 19,
   "metadata": {},
   "outputs": [
    {
     "name": "stderr",
     "output_type": "stream",
     "text": [
      "C:\\ProgramData\\Anaconda3\\lib\\site-packages\\ipykernel_launcher.py:15: SettingWithCopyWarning: \n",
      "A value is trying to be set on a copy of a slice from a DataFrame.\n",
      "Try using .loc[row_indexer,col_indexer] = value instead\n",
      "\n",
      "See the caveats in the documentation: http://pandas.pydata.org/pandas-docs/stable/user_guide/indexing.html#returning-a-view-versus-a-copy\n",
      "  from ipykernel import kernelapp as app\n",
      "C:\\ProgramData\\Anaconda3\\lib\\site-packages\\ipykernel_launcher.py:16: SettingWithCopyWarning: \n",
      "A value is trying to be set on a copy of a slice from a DataFrame.\n",
      "Try using .loc[row_indexer,col_indexer] = value instead\n",
      "\n",
      "See the caveats in the documentation: http://pandas.pydata.org/pandas-docs/stable/user_guide/indexing.html#returning-a-view-versus-a-copy\n",
      "  app.launch_new_instance()\n",
      "C:\\ProgramData\\Anaconda3\\lib\\site-packages\\ipykernel_launcher.py:17: SettingWithCopyWarning: \n",
      "A value is trying to be set on a copy of a slice from a DataFrame.\n",
      "Try using .loc[row_indexer,col_indexer] = value instead\n",
      "\n",
      "See the caveats in the documentation: http://pandas.pydata.org/pandas-docs/stable/user_guide/indexing.html#returning-a-view-versus-a-copy\n"
     ]
    }
   ],
   "source": [
    "#Separate by elements the atomic lines for decrease the amount of data\n",
    "Fe1_ = Atomic_lines[Atomic_lines['element']=='Fe 1']\n",
    "Fe2_ = Atomic_lines[Atomic_lines['element']=='Fe 2']\n",
    "Ti2_ = Atomic_lines[Atomic_lines['element']=='Ti 2']\n",
    "\n",
    "#Use just workin data range\n",
    "Fe1_VALD = Fe1_[(Fe1_['wave_A'] >= 3760) & (Fe1_['wave_A'] <= 4420)]\n",
    "Fe1_VALD.index = list(range(len(Fe1_VALD)))\n",
    "Fe2_VALD = Fe2_[(Fe2_['wave_A'] >= 3760) & (Fe2_['wave_A'] <= 4590)]\n",
    "Fe2_VALD.index = list(range(len(Fe2_VALD)))\n",
    "Ti2_VALD = Ti2_[(Ti2_['wave_A'] >= 3760) & (Ti2_['wave_A'] <= 4590)]\n",
    "Ti2_VALD.index = list(range(len(Ti2_VALD)))\n",
    "\n",
    "#Working in nm\n",
    "Fe1_VALD['wave_A'] = Fe1_VALD['wave_A']/10\n",
    "Fe2_VALD['wave_A'] = Fe2_VALD['wave_A']/10\n",
    "Ti2_VALD['wave_A'] = Ti2_VALD['wave_A']/10\n"
   ]
  },
  {
   "cell_type": "code",
   "execution_count": 23,
   "metadata": {},
   "outputs": [
    {
     "data": {
      "text/plain": [
       "33"
      ]
     },
     "execution_count": 23,
     "metadata": {},
     "output_type": "execute_result"
    }
   ],
   "source": [
    "new_listgf = []\n",
    "gf = []\n",
    "for i in range(len(Ti2['waveobs'])):\n",
    "    x = abs(nsmallest(1,Ti2_VALD['wave_A'], key = lambda x: abs(x-Ti2['waveobs'][i]))[0] - Ti2['waveobs'][i])\n",
    "    if x < 0.02:\n",
    "        new_listgf.append(nsmallest(1,Ti2_VALD['wave_A'], key = lambda x: abs(x-Ti2['waveobs'][i]))[0])\n",
    "        gf.append(Ti2_VALD['loggf'][i])\n",
    "        "
   ]
  },
  {
   "cell_type": "markdown",
   "metadata": {},
   "source": [
    "# Base and top"
   ]
  },
  {
   "cell_type": "code",
   "execution_count": 60,
   "metadata": {},
   "outputs": [
    {
     "name": "stdout",
     "output_type": "stream",
     "text": [
      "[376.05199999997353, 376.23199999997354]\n",
      "[378.55299999991433, 378.73299999991434]\n",
      "[381.25899999985035, 381.43899999985035]\n",
      "[381.37799999984753, 381.55799999984754]\n",
      "[388.1479999996874, 388.3279999996874]\n",
      "[389.9749999996442, 390.1549999996442]\n",
      "[391.2659999996137, 391.4459999996137]\n",
      "[393.1209999995698, 393.3009999995698]\n",
      "[398.11999999945164, 398.29999999945164]\n",
      "[401.1569999993798, 401.3369999993798]\n",
      "[402.4339999993496, 402.61399999934963]\n",
      "[402.7529999993421, 402.9329999993421]\n",
      "[417.27399999899876, 417.45399999899877]\n",
      "[428.94199999872285, 429.12199999872286]\n",
      "[429.3299999987136, 429.5099999987136]\n",
      "[429.9249999986995, 430.1049999986995]\n",
      "[430.11299999869516, 430.29299999869517]\n",
      "[430.709999998681, 430.889999998681]\n",
      "[431.2059999986693, 431.3859999986693]\n",
      "[431.4179999986642, 431.5979999986642]\n",
      "[433.71199999861, 433.89199999861]\n",
      "[434.34899999859493, 434.52899999859494]\n",
      "[439.4229999984749, 439.6029999984749]\n",
      "[439.8969999984637, 440.0769999984637]\n",
      "[441.69199999842135, 441.87199999842136]\n",
      "[444.2999999983596, 444.47999999835963]\n",
      "[446.7689999983012, 446.9489999983012]\n",
      "[450.0469999982237, 450.22699999822373]\n",
      "[453.3169999981464, 453.4969999981464]\n",
      "[454.8819999981094, 455.0619999981094]\n",
      "[456.295999998076, 456.475999998076]\n",
      "[457.1169999980565, 457.2969999980565]\n",
      "[458.915999998014, 459.095999998014]\n"
     ]
    }
   ],
   "source": [
    "listt = []\n",
    "for i in range(len(Ti2_gf[\"wave_base\"])):\n",
    "    listt.append([Ti2_gf[\"wave_base\"][i], Ti2_gf[\"wave_top\"][i]])\n",
    "for i in listt:\n",
    "    print(i)\n"
   ]
  },
  {
   "cell_type": "code",
   "execution_count": 24,
   "metadata": {},
   "outputs": [],
   "source": [
    "Ti2_gf = pd.DataFrame(columns = ['waveobs','element', 'flux', 'loggf', 'wave_base', 'wave_top', 'error_f'])\n",
    "Ti2_gf['waveobs'] = Ti2['waveobs']\n",
    "Ti2_gf['element'] = Ti2['element']\n",
    "Ti2_gf['flux'] = Ti2['flux']\n",
    "Ti2_gf['loggf'] = gf\n",
    "Ti2_gf['wave_base'] = Ti2['waveobs']-0.08\n",
    "Ti2_gf['wave_top'] = Ti2['waveobs']+0.1\n",
    "Ti2_gf['error_f'] = c_s['err']"
   ]
  },
  {
   "cell_type": "markdown",
   "metadata": {},
   "source": [
    "## Equivalent Width"
   ]
  },
  {
   "cell_type": "markdown",
   "metadata": {},
   "source": [
    "#### Fit"
   ]
  },
  {
   "cell_type": "code",
   "execution_count": 25,
   "metadata": {},
   "outputs": [],
   "source": [
    "#Number of splines\n",
    "def step_continuum(Lmin,Lmax,splines):\n",
    "    return (Lmax-Lmin)/splines\n",
    "\n",
    "#New dots to found continuous\n",
    "def Points_continuum(_lambda, Intensity,start,end,step):\n",
    "    \n",
    "    steps_list = np.arange(start,end, step)\n",
    "    grouped_data = {}\n",
    "    grouped_data['L'] = []\n",
    "    grouped_data['I'] = []\n",
    "    for i in range(1,len(steps_list)):\n",
    "        grouped_lambda = _lambda[(_lambda >= steps_list[i-1]) & (_lambda < steps_list[i])]\n",
    "\n",
    "        grouped_data['L'].append(grouped_lambda)\n",
    "        grouped_data['I'].append(Intensity[  grouped_lambda.index  ])\n",
    "    return grouped_data\n",
    "\n",
    "#Fit contunuous to line data\n",
    "def fit_continuum(grouped_data, L_min, L_max):  \n",
    "    newdataL = [] \n",
    "    newdataI = []\n",
    "    for i in range(len(grouped_data['I'])):\n",
    "        newdataL.append(grouped_data['L'][i].median())\n",
    "        newdataI.append(grouped_data['I'][i].median())\n",
    "        data_fitL = [x for x in newdataL if str(x) != 'nan']\n",
    "        data_fitI = [x for x in newdataI if str(x) != 'nan']\n",
    "    cs = InterpolatedUnivariateSpline(data_fitL,data_fitI)\n",
    "    xs =  np.linspace(L_min,  L_max, 100)\n",
    "    fit =  pd.DataFrame({'L': xs, 'I': cs(xs)})\n",
    "    return fit"
   ]
  },
  {
   "cell_type": "code",
   "execution_count": 26,
   "metadata": {},
   "outputs": [],
   "source": [
    "step = step_continuum(Ti2_gf['wave_base'][0],Ti2_gf['wave_top'][0],20)\n",
    "\n",
    "grouped_data = Points_continuum(c_s['waveobs'], c_s['flux'],Ti2_gf['wave_base'][0],Ti2_gf['wave_top'][0],step)\n",
    "\n",
    "fit1 = fit_continuum(grouped_data, Ti2_gf['wave_base'][0], Ti2_gf['wave_top'][0])\n",
    "fit = fit1[12:88]"
   ]
  },
  {
   "cell_type": "markdown",
   "metadata": {},
   "source": [
    "#### Pseudocontinuou"
   ]
  },
  {
   "cell_type": "code",
   "execution_count": 27,
   "metadata": {},
   "outputs": [],
   "source": [
    "def pseudocontinuou(Data,LMIN, LMAX):\n",
    "    pseudo_continuous1 = c_s[(c_s['waveobs'] <= LMIN)  & (c_s['waveobs'] > (LMIN-0.05))]\n",
    "    pseudo_continuous2 = c_s[(c_s['waveobs'] >= LMAX )  & (c_s['waveobs'] < (LMAX+0.05))]\n",
    "    pseudo_continuous1.index = list(range(len(pseudo_continuous1)))\n",
    "    pseudo_continuous2.index = list(range(len(pseudo_continuous2)))\n",
    "\n",
    "    mean1 = np.mean(pseudo_continuous1)\n",
    "    mean2 = np.mean(pseudo_continuous2)\n",
    "    mean = (mean1['flux'] + mean2['flux'])/2\n",
    "    return mean"
   ]
  },
  {
   "cell_type": "code",
   "execution_count": 28,
   "metadata": {},
   "outputs": [],
   "source": [
    "mean = pseudocontinuou(c_s, Ti2_gf['wave_base'][0], Ti2_gf['wave_top'][0])"
   ]
  },
  {
   "cell_type": "code",
   "execution_count": 29,
   "metadata": {},
   "outputs": [
    {
     "data": {
      "text/plain": [
       "0.08904984958953813"
      ]
     },
     "execution_count": 29,
     "metadata": {},
     "output_type": "execute_result"
    }
   ],
   "source": [
    "Area_rec = mean*(fit['L'][87] - fit['L'][12])\n",
    "Area_fit = integrate.simps(fit['I'], fit['L'])\n",
    "Area_real = Area_rec - Area_fit\n",
    "EW = Area_real/mean\n",
    "Ti2_gf['wave_base'][0]\n",
    "EW\n",
    "#np.log(EW/Ti2_gf['wave_base'][0])"
   ]
  },
  {
   "cell_type": "code",
   "execution_count": null,
   "metadata": {},
   "outputs": [],
   "source": [
    "Ti2_growth_c = pd.DataFrame(columns = ['waveobs','element', 'flux', 'loggf', 'EW','wave_base', 'wave_top', 'error_f'])\n",
    "    Ti2_growth_c['waveobs'] = element_gf['waveobs']\n",
    "    Ti2_growth_c['element'] = element_gf['element']\n",
    "    Ti2_growth_c['flux'] = element_gf['flux']\n",
    "    Ti2_growth_c['loggf'] = element_gf['loggf']\n",
    "    Ti2_growth_c['EW'] = EW\n",
    "    Ti2_growth_c['wave_base'] = element_gf['wave_base']\n",
    "    Ti2_growth_c['wave_top'] = element_gf['wave_top']\n",
    "    Ti2_growth_c['error_f'] = element_gf['error_f']"
   ]
  },
  {
   "cell_type": "markdown",
   "metadata": {},
   "source": [
    "## Graph"
   ]
  },
  {
   "cell_type": "code",
   "execution_count": 30,
   "metadata": {},
   "outputs": [
    {
     "data": {
      "image/png": "[encoded data removed]",
      "text/plain": [
       "<Figure size 576x432 with 1 Axes>"
      ]
     },
     "metadata": {
      "needs_background": "light"
     },
     "output_type": "display_data"
    }
   ],
   "source": [
    "plt.figure(figsize = [8,6])\n",
    "plt.plot(c_s['waveobs'],c_s['flux'],marker='', ls='-', label = 'Cromospheric lines')\n",
    "plt.plot(lines_s['waveobs'],lines_s['flux'],marker='.', ls='', label = 'mins')\n",
    "plt.plot(fit['L'],fit['I'],marker='', ls='-', label = 'fit')\n",
    "\n",
    "plt.xlim(376,376.3)\n",
    "#plt.ylim(-2.5, 3)\n",
    "plt.grid()\n",
    "plt.legend(loc=\"best\")\n",
    "plt.ylabel(\"Flujo\",fontsize=18)\n",
    "plt.xlabel(\"$\\lambda [A]$\",fontsize=18)\n",
    "#plt.legend(fontsize = 14)\n",
    "plt.show()\n"
   ]
  },
  {
   "cell_type": "code",
   "execution_count": 42,
   "metadata": {},
   "outputs": [
    {
     "data": {
      "image/png": "[encoded data removed]",
      "text/plain": [
       "<Figure size 576x432 with 1 Axes>"
      ]
     },
     "metadata": {
      "needs_background": "light"
     },
     "output_type": "display_data"
    }
   ],
   "source": [
    "plt.figure(figsize = [8,6])\n",
    "plt.plot(c_s['waveobs'],c_s['flux'],marker='', ls='-', label = 'Cromospheric lines')\n",
    "plt.plot(lines_s['waveobs'],lines_s['flux'],marker='.', ls='', label = 'mins')\n",
    "plt.xlim(440.2,440.65)\n",
    "#plt.ylim(-2.5, 3)\n",
    "plt.grid()\n",
    "plt.legend(loc=\"best\")\n",
    "plt.ylabel(\"Flujo\",fontsize=18)\n",
    "plt.xlabel(\"$\\lambda [A]$\",fontsize=18)\n",
    "#plt.legend(fontsize = 14)\n",
    "plt.show()"
   ]
  },
  {
   "cell_type": "code",
   "execution_count": null,
   "metadata": {},
   "outputs": [],
   "source": [
    "mins #Punto de tabla\n",
    "Data[mins['L']+]"
   ]
  }
 ],
 "metadata": {
  "kernelspec": {
   "display_name": "Python 3",
   "language": "python",
   "name": "python3"
  },
  "language_info": {
   "codemirror_mode": {
    "name": "ipython",
    "version": 3
   },
   "file_extension": ".py",
   "mimetype": "text/x-python",
   "name": "python",
   "nbconvert_exporter": "python",
   "pygments_lexer": "ipython3",
   "version": "3.7.4"
  }
 },
 "nbformat": 4,
 "nbformat_minor": 2
}
