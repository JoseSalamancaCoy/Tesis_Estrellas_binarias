{
 "cells": [
  {
   "cell_type": "code",
   "execution_count": 1,
   "metadata": {},
   "outputs": [],
   "source": [
    "import pandas as pd\n",
    "import numpy as np\n",
    "import scipy\n",
    "import matplotlib.pyplot as plt\n",
    "from heapq import nsmallest\n",
    "from scipy.signal import butter, lfilter, freqz\n",
    "from scipy.fftpack import fft, ifft"
   ]
  },
  {
   "cell_type": "code",
   "execution_count": 2,
   "metadata": {},
   "outputs": [],
   "source": [
    "combine_parcial =  pd.read_csv('zetaAur-eclipse_B_2019_10_25_edit.csv', delimiter = '\\t', header = 0)\n",
    "combine_parcial.columns = ['L','I', 'C']\n",
    "combine_parcial['L'] = combine_parcial['L']*10\n",
    "combine_parcial['I'] = (combine_parcial['I']*1.8 + 0.5)"
   ]
  },
  {
   "cell_type": "code",
   "execution_count": 3,
   "metadata": {},
   "outputs": [],
   "source": [
    "def get_fs(Data):\n",
    "    difer = 0\n",
    "    for i in range(1,len(combine_parcial['L'])): \n",
    "        difer += combine_parcial['L'][i] - combine_parcial['L'][i-1]\n",
    "    return difer/(len(combine_parcial['L'])-1)\n",
    "               \n",
    "def butter_bandpass(lowcut, highcut, fs, order=5):\n",
    "    nyq = 0.5 * fs\n",
    "    low = lowcut / nyq\n",
    "    high = highcut / nyq\n",
    "    b, a = butter(order, [low, high], btype='band')\n",
    "    return b, a\n",
    "\n",
    "\n",
    "def butter_bandpass_filter(data, lowcut, highcut, fs, order=5):\n",
    "    b, a = butter_bandpass(lowcut, highcut, fs, order=order)\n",
    "    y = lfilter(b, a, data)\n",
    "    return y\n",
    "\n",
    "def butter_lowpass(highcut, fs, order=5):\n",
    "    nyq = 0.5 * fs\n",
    "    high = highcut / nyq\n",
    "    b, a = butter(order, high, btype='low')\n",
    "    return b, a\n",
    "\n",
    "\n",
    "def butter_lowpass_filter(data, highcut, fs, order=5):\n",
    "    b, a = butter_lowpass( highcut, fs, order=order)\n",
    "    y = lfilter(b, a, data)\n",
    "    return y\n",
    "\n",
    "def FFT(Data,fs):\n",
    "    N = len(Data)\n",
    "    T = 1/fs\n",
    "    yf = fft(Data)\n",
    "    xf = np.linspace(0.0, 1.0/(2.0*T), N//2)\n",
    "    return [xf, yf, N]"
   ]
  },
  {
   "cell_type": "code",
   "execution_count": 5,
   "metadata": {},
   "outputs": [],
   "source": [
    "dx = np.diff(combine_parcial['I'])/np.diff(combine_parcial['L'])\n",
    "dy = dx.tolist()\n",
    "dy.append(0)"
   ]
  },
  {
   "cell_type": "code",
   "execution_count": 6,
   "metadata": {},
   "outputs": [],
   "source": [
    "fs = get_fs(dy)\n",
    "newdy = butter_lowpass_filter(dy,0.01,fs,5)\n",
    "highpass_Inte = butter_bandpass_filter(combine_parcial['I'],0.00008,0.03,fs,5)"
   ]
  },
  {
   "cell_type": "code",
   "execution_count": null,
   "metadata": {},
   "outputs": [],
   "source": [
    "def fast_peaks():"
   ]
  }
 ],
 "metadata": {
  "kernelspec": {
   "display_name": "Python 3",
   "language": "python",
   "name": "python3"
  },
  "language_info": {
   "codemirror_mode": {
    "name": "ipython",
    "version": 3
   },
   "file_extension": ".py",
   "mimetype": "text/x-python",
   "name": "python",
   "nbconvert_exporter": "python",
   "pygments_lexer": "ipython3",
   "version": "3.7.4"
  }
 },
 "nbformat": 4,
 "nbformat_minor": 2
}
